{
 "cells": [
  {
   "cell_type": "markdown",
   "metadata": {},
   "source": [
    "# Dirty Data\n",
    "\n",
    "Q: Why did the data team's project take so long?\n",
    "\n",
    "A: Probably because of unclean data, which can arise for [several reasons](https://towardsdatascience.com/what-is-dirty-data-d96abbdf254e).\n",
    "\n",
    "## Inconsistent Spelling / Typos\n",
    "\n",
    "Here's a simple example of how spelling inconsistencies and typos can make the task of data preparation considerably more difficult than it would otherwise be."
   ]
  },
  {
   "cell_type": "code",
   "execution_count": null,
   "metadata": {},
   "outputs": [],
   "source": [
    "import pandas as pd\n",
    "drugs = pd.read_csv('../data/product.xls',\n",
    "                   delimiter='\\t', encoding='mac-roman')"
   ]
  },
  {
   "cell_type": "code",
   "execution_count": null,
   "metadata": {},
   "outputs": [],
   "source": [
    "drugs.head()"
   ]
  },
  {
   "cell_type": "code",
   "execution_count": null,
   "metadata": {},
   "outputs": [],
   "source": [
    "drugs.tail()"
   ]
  },
  {
   "cell_type": "markdown",
   "metadata": {},
   "source": [
    "### Missing Values"
   ]
  },
  {
   "cell_type": "code",
   "execution_count": null,
   "metadata": {},
   "outputs": [],
   "source": [
    "drugs.isnull().sum()"
   ]
  },
  {
   "cell_type": "markdown",
   "metadata": {},
   "source": [
    "### Spelling Inconsistencies"
   ]
  },
  {
   "cell_type": "code",
   "execution_count": null,
   "metadata": {},
   "outputs": [],
   "source": [
    "counts = drugs['PROPRIETARYNAME'].value_counts()\n",
    "sorted(counts.index)"
   ]
  },
  {
   "cell_type": "code",
   "execution_count": null,
   "metadata": {},
   "outputs": [],
   "source": [
    "counts[counts.index == 'Hand Sanitizer']"
   ]
  },
  {
   "cell_type": "markdown",
   "metadata": {},
   "source": [
    "#### Consolidating Values"
   ]
  },
  {
   "cell_type": "code",
   "execution_count": null,
   "metadata": {},
   "outputs": [],
   "source": [
    "drugs['PROPRIETARYNAME'] = drugs['PROPRIETARYNAME'].fillna('')\n",
    "drugs['PROPRIETARYNAME'] =\\\n",
    "drugs['PROPRIETARYNAME'].map(lambda x: 'Hand Sanitizer' if\\\n",
    "                                                       'hand sanitizer' in x.lower()\\\n",
    "                                                        else x)"
   ]
  },
  {
   "cell_type": "code",
   "execution_count": null,
   "metadata": {},
   "outputs": [],
   "source": [
    "counts2 = drugs['PROPRIETARYNAME'].value_counts()\n",
    "sorted(counts2.index)"
   ]
  },
  {
   "cell_type": "code",
   "execution_count": null,
   "metadata": {},
   "outputs": [],
   "source": [
    "counts2[counts2.index == 'Hand Sanitizer']"
   ]
  },
  {
   "cell_type": "markdown",
   "metadata": {},
   "source": [
    "#### Typos and Other Variations"
   ]
  },
  {
   "cell_type": "code",
   "execution_count": null,
   "metadata": {},
   "outputs": [],
   "source": [
    "counts2[counts2.index == 'Hydrogen Peroxide']"
   ]
  },
  {
   "cell_type": "code",
   "execution_count": null,
   "metadata": {},
   "outputs": [],
   "source": [
    "counts2[counts2.index == 'HYDROGEN PEROXIDE']"
   ]
  },
  {
   "cell_type": "code",
   "execution_count": null,
   "metadata": {},
   "outputs": [],
   "source": [
    "counts2[counts2.index == '16OZ HYDORGEN PEROXIDE']"
   ]
  },
  {
   "cell_type": "code",
   "execution_count": null,
   "metadata": {},
   "outputs": [],
   "source": [
    "drugs['PROPRIETARYNAME'] =\\\n",
    "drugs['PROPRIETARYNAME'].map(lambda x: 'Hydrogen Peroxide' if\\\n",
    "                                                       'hydrogen peroxide' in x.lower()\\\n",
    "                             or 'hydorgen peroxide' in x.lower()\n",
    "                                                        else x)"
   ]
  },
  {
   "cell_type": "code",
   "execution_count": null,
   "metadata": {},
   "outputs": [],
   "source": [
    "counts3 = drugs['PROPRIETARYNAME'].value_counts()\n",
    "sorted(counts3.index)"
   ]
  },
  {
   "cell_type": "code",
   "execution_count": null,
   "metadata": {},
   "outputs": [],
   "source": [
    "counts3[counts3.index == 'Hydrogen Peroxide']"
   ]
  },
  {
   "cell_type": "code",
   "execution_count": null,
   "metadata": {},
   "outputs": [],
   "source": []
  }
 ],
 "metadata": {
  "kernelspec": {
   "display_name": "Python 3",
   "language": "python",
   "name": "python3"
  },
  "language_info": {
   "codemirror_mode": {
    "name": "ipython",
    "version": 3
   },
   "file_extension": ".py",
   "mimetype": "text/x-python",
   "name": "python",
   "nbconvert_exporter": "python",
   "pygments_lexer": "ipython3",
   "version": "3.7.2"
  }
 },
 "nbformat": 4,
 "nbformat_minor": 4
}
